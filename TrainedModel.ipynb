{
  "nbformat": 4,
  "nbformat_minor": 0,
  "metadata": {
    "colab": {
      "name": "TrainedModel.ipynb",
      "provenance": [],
      "collapsed_sections": [],
      "machine_shape": "hm"
    },
    "kernelspec": {
      "name": "python3",
      "display_name": "Python 3"
    },
    "accelerator": "GPU"
  },
  "cells": [
    {
      "cell_type": "code",
      "metadata": {
        "id": "4Za2AGTQlfiY",
        "colab_type": "code",
        "colab": {}
      },
      "source": [
        "!pip install -q keras"
      ],
      "execution_count": 0,
      "outputs": []
    },
    {
      "cell_type": "code",
      "metadata": {
        "id": "P8lNogXRhgzc",
        "colab_type": "code",
        "outputId": "349a7f8a-ef27-4d49-f16c-868b4c6c708f",
        "colab": {
          "base_uri": "https://localhost:8080/",
          "height": 125
        }
      },
      "source": [
        "from google.colab import drive\n",
        "drive.mount('/content/drive')"
      ],
      "execution_count": 0,
      "outputs": [
        {
          "output_type": "stream",
          "text": [
            "Go to this URL in a browser: https://accounts.google.com/o/oauth2/auth?client_id=947318989803-6bn6qk8qdgf4n4g3pfee6491hc0brc4i.apps.googleusercontent.com&redirect_uri=urn%3aietf%3awg%3aoauth%3a2.0%3aoob&response_type=code&scope=email%20https%3a%2f%2fwww.googleapis.com%2fauth%2fdocs.test%20https%3a%2f%2fwww.googleapis.com%2fauth%2fdrive%20https%3a%2f%2fwww.googleapis.com%2fauth%2fdrive.photos.readonly%20https%3a%2f%2fwww.googleapis.com%2fauth%2fpeopleapi.readonly\n",
            "\n",
            "Enter your authorization code:\n",
            "··········\n",
            "Mounted at /content/drive\n"
          ],
          "name": "stdout"
        }
      ]
    },
    {
      "cell_type": "code",
      "metadata": {
        "id": "SBCV6IEimKvm",
        "colab_type": "code",
        "outputId": "18bdadbe-9020-4f37-c03f-959f4b33e79e",
        "colab": {
          "base_uri": "https://localhost:8080/",
          "height": 81
        }
      },
      "source": [
        "import keras"
      ],
      "execution_count": 0,
      "outputs": [
        {
          "output_type": "stream",
          "text": [
            "Using TensorFlow backend.\n"
          ],
          "name": "stderr"
        },
        {
          "output_type": "display_data",
          "data": {
            "text/html": [
              "<p style=\"color: red;\">\n",
              "The default version of TensorFlow in Colab will soon switch to TensorFlow 2.x.<br>\n",
              "We recommend you <a href=\"https://www.tensorflow.org/guide/migrate\" target=\"_blank\">upgrade</a> now \n",
              "or ensure your notebook will continue to use TensorFlow 1.x via the <code>%tensorflow_version 1.x</code> magic:\n",
              "<a href=\"https://colab.research.google.com/notebooks/tensorflow_version.ipynb\" target=\"_blank\">more info</a>.</p>\n"
            ],
            "text/plain": [
              "<IPython.core.display.HTML object>"
            ]
          },
          "metadata": {
            "tags": []
          }
        }
      ]
    },
    {
      "cell_type": "code",
      "metadata": {
        "id": "fnY07TNUmN0C",
        "colab_type": "code",
        "colab": {}
      },
      "source": [
        "datadir='/content/drive/My Drive/Project (1)/dataset (1)/train'"
      ],
      "execution_count": 0,
      "outputs": []
    },
    {
      "cell_type": "code",
      "metadata": {
        "id": "Pv5H4E_Amb3e",
        "colab_type": "code",
        "colab": {}
      },
      "source": [
        "import numpy as np\n",
        "import cv2\n",
        "import os\n",
        "import matplotlib.pyplot as plt"
      ],
      "execution_count": 0,
      "outputs": []
    },
    {
      "cell_type": "code",
      "metadata": {
        "id": "5EAaGRGdmwV-",
        "colab_type": "code",
        "colab": {}
      },
      "source": [
        "categories=['Corn_(maize)___Northern_Leaf_Blight','Corn_(maize)___healthy','Grape___Leaf_blight_(Isariopsis_Leaf_Spot)','Grape___Black_rot','Grape___Esca_(Black_Measles)','Grape___healthy','Potato___healthy','Tomato___healthy','Corn_(maize)___Common_rust_','Tomato___Bacterial_spot','Tomato___Early_blight','Potato___Early_blight','Potato___Late_blight']"
      ],
      "execution_count": 0,
      "outputs": []
    },
    {
      "cell_type": "code",
      "metadata": {
        "id": "qjijgR8VncpA",
        "colab_type": "code",
        "outputId": "05f34ad2-632f-4ac0-f968-2a415bc2dbf7",
        "colab": {
          "base_uri": "https://localhost:8080/",
          "height": 34
        }
      },
      "source": [
        "len(categories)"
      ],
      "execution_count": 0,
      "outputs": [
        {
          "output_type": "execute_result",
          "data": {
            "text/plain": [
              "13"
            ]
          },
          "metadata": {
            "tags": []
          },
          "execution_count": 8
        }
      ]
    },
    {
      "cell_type": "code",
      "metadata": {
        "id": "0PToVSw6neqB",
        "colab_type": "code",
        "colab": {}
      },
      "source": [
        "IMAGE_SIZE=(200,200)\n",
        "BATCH_SIZE=64"
      ],
      "execution_count": 0,
      "outputs": []
    },
    {
      "cell_type": "code",
      "metadata": {
        "id": "xavcsXujqNew",
        "colab_type": "code",
        "colab": {}
      },
      "source": [
        "import tensorflow as tf\n",
        "import tensorflow_hub as hub\n",
        "\n",
        "from tensorflow.keras.layers import Dense, Flatten, Conv2D\n",
        "from tensorflow.keras import Model\n",
        "from tensorflow.keras.preprocessing.image import ImageDataGenerator\n",
        "from tensorflow.keras.optimizers import Adam\n",
        "from tensorflow.keras import layers,Sequential\n",
        "from tensorflow.keras.layers import Conv2D, MaxPool2D, Dense, Flatten, Dropout"
      ],
      "execution_count": 0,
      "outputs": []
    },
    {
      "cell_type": "code",
      "metadata": {
        "id": "n9bJopHzrDv_",
        "colab_type": "code",
        "colab": {}
      },
      "source": [
        "datadir_val='/content/drive/My Drive/Project (1)/dataset (1)/val'"
      ],
      "execution_count": 0,
      "outputs": []
    },
    {
      "cell_type": "code",
      "metadata": {
        "id": "fVk9smrfrzNx",
        "colab_type": "code",
        "colab": {}
      },
      "source": [
        "datadir_test='/content/drive/My Drive/Project (1)/dataset (1)/test'"
      ],
      "execution_count": 0,
      "outputs": []
    },
    {
      "cell_type": "code",
      "metadata": {
        "id": "Ag1aYPHGpSDC",
        "colab_type": "code",
        "outputId": "017dd1ae-9fa3-4127-a75f-74edf23b9399",
        "colab": {
          "base_uri": "https://localhost:8080/",
          "height": 52
        }
      },
      "source": [
        "validation_datagen = tf.keras.preprocessing.image.ImageDataGenerator(rescale=1./255,\n",
        "                                                                     rotation_range=40,\n",
        "      horizontal_flip=True,\n",
        "      width_shift_range=0.2, \n",
        "      height_shift_range=0.2,\n",
        "      shear_range=0.2, \n",
        "      zoom_range=0.2,\n",
        "      fill_mode='nearest')\n",
        "validation_generator = validation_datagen.flow_from_directory(\n",
        "    datadir_val, \n",
        "    shuffle=False, \n",
        "    seed=42,\n",
        "    color_mode=\"rgb\", \n",
        "    class_mode=\"categorical\",\n",
        "    target_size=IMAGE_SIZE,\n",
        "    batch_size=BATCH_SIZE)\n",
        "do_data_augmentation = True\n",
        "if do_data_augmentation:\n",
        "  train_datagen = tf.keras.preprocessing.image.ImageDataGenerator(\n",
        "      rescale = 1./255,\n",
        "      rotation_range=40,\n",
        "      horizontal_flip=True,\n",
        "      width_shift_range=0.2, \n",
        "      height_shift_range=0.2,\n",
        "      shear_range=0.2, \n",
        "      zoom_range=0.2,\n",
        "      fill_mode='nearest' )\n",
        "else:\n",
        "  train_datagen = validation_datagen\n",
        "  \n",
        "train_generator = train_datagen.flow_from_directory(\n",
        "    datadir, \n",
        "    subset=\"training\", \n",
        "    shuffle=True, \n",
        "    seed=42,\n",
        "    color_mode=\"rgb\", \n",
        "    class_mode=\"categorical\",\n",
        "    target_size=IMAGE_SIZE,\n",
        "    batch_size=BATCH_SIZE)\n"
      ],
      "execution_count": 0,
      "outputs": [
        {
          "output_type": "stream",
          "text": [
            "Found 236 images belonging to 13 classes.\n",
            "Found 11159 images belonging to 13 classes.\n"
          ],
          "name": "stdout"
        }
      ]
    },
    {
      "cell_type": "code",
      "metadata": {
        "id": "LdqlowWQpSNs",
        "colab_type": "code",
        "colab": {}
      },
      "source": [
        "in_shape=train_generator.image_shape"
      ],
      "execution_count": 0,
      "outputs": []
    },
    {
      "cell_type": "code",
      "metadata": {
        "id": "jSHVh4c6pSSB",
        "colab_type": "code",
        "outputId": "8ea3bca8-93fd-47b4-bd2d-f3127692aa01",
        "colab": {
          "base_uri": "https://localhost:8080/",
          "height": 90
        }
      },
      "source": [
        "model = Sequential()\n",
        "model.add(Conv2D(filters=32,kernel_size = (3, 3), activation='relu', input_shape=in_shape))\n",
        "model.add(Conv2D(64, (3,3), activation='relu'))\n",
        "model.add(MaxPool2D(2,2))\n",
        "model.add(Dropout(0.25))\n",
        "\n",
        "model.add(Flatten())\n",
        "model.add(Dense(128, activation='relu'))\n",
        "model.add(Dropout(0.2))\n",
        "model.add(Dense(13, activation='softmax'))"
      ],
      "execution_count": 0,
      "outputs": [
        {
          "output_type": "stream",
          "text": [
            "WARNING:tensorflow:From /usr/local/lib/python3.6/dist-packages/tensorflow_core/python/ops/resource_variable_ops.py:1630: calling BaseResourceVariable.__init__ (from tensorflow.python.ops.resource_variable_ops) with constraint is deprecated and will be removed in a future version.\n",
            "Instructions for updating:\n",
            "If using Keras pass *_constraint arguments to layers.\n"
          ],
          "name": "stdout"
        }
      ]
    },
    {
      "cell_type": "code",
      "metadata": {
        "id": "UifEL1VTpSW1",
        "colab_type": "code",
        "colab": {}
      },
      "source": [
        "model.compile(loss='categorical_crossentropy', optimizer='adam', metrics=['accuracy'])"
      ],
      "execution_count": 0,
      "outputs": []
    },
    {
      "cell_type": "code",
      "metadata": {
        "id": "7pi3HR5LuSRH",
        "colab_type": "code",
        "outputId": "baf1325e-1b00-4640-e805-d1bf70ac2fb0",
        "colab": {
          "base_uri": "https://localhost:8080/",
          "height": 34
        }
      },
      "source": [
        "validation_generator.samples\n"
      ],
      "execution_count": 0,
      "outputs": [
        {
          "output_type": "execute_result",
          "data": {
            "text/plain": [
              "236"
            ]
          },
          "metadata": {
            "tags": []
          },
          "execution_count": 17
        }
      ]
    },
    {
      "cell_type": "code",
      "metadata": {
        "id": "TI5VfJh6vBgn",
        "colab_type": "code",
        "outputId": "42307796-9236-453e-95a4-cc75c1f8b3c3",
        "colab": {
          "base_uri": "https://localhost:8080/",
          "height": 34
        }
      },
      "source": [
        "train_generator.samples"
      ],
      "execution_count": 0,
      "outputs": [
        {
          "output_type": "execute_result",
          "data": {
            "text/plain": [
              "11159"
            ]
          },
          "metadata": {
            "tags": []
          },
          "execution_count": 18
        }
      ]
    },
    {
      "cell_type": "code",
      "metadata": {
        "id": "oArtv5xryNMm",
        "colab_type": "code",
        "outputId": "399ff0a0-f944-4195-bcd4-23f2b86d0097",
        "colab": {
          "base_uri": "https://localhost:8080/",
          "height": 34
        }
      },
      "source": [
        "train_generator.num_classes"
      ],
      "execution_count": 0,
      "outputs": [
        {
          "output_type": "execute_result",
          "data": {
            "text/plain": [
              "13"
            ]
          },
          "metadata": {
            "tags": []
          },
          "execution_count": 19
        }
      ]
    },
    {
      "cell_type": "code",
      "metadata": {
        "id": "oH3bfUe5pSVV",
        "colab_type": "code",
        "outputId": "3b1d46ee-8d32-4255-de2b-0abaae58c031",
        "colab": {
          "base_uri": "https://localhost:8080/",
          "height": 809
        }
      },
      "source": [
        "EPOCHS=15 #@param {type:\"integer\"}\n",
        "STEPS_EPOCHS = train_generator.samples//train_generator.batch_size\n",
        "VALID_STEPS=validation_generator.samples//validation_generator.batch_size\n",
        "history = model.fit_generator( \n",
        "          train_generator,\n",
        "          steps_per_epoch=STEPS_EPOCHS,\n",
        "          epochs=EPOCHS,\n",
        "          validation_data=validation_generator)\n"
      ],
      "execution_count": 0,
      "outputs": [
        {
          "output_type": "stream",
          "text": [
            "Epoch 1/15\n",
            "173/174 [============================>.] - ETA: 15s - loss: 1.9059 - acc: 0.5526Epoch 1/15\n",
            "174/174 [==============================] - 2768s 16s/step - loss: 1.8999 - acc: 0.5535 - val_loss: 0.5924 - val_acc: 0.8178\n",
            "Epoch 2/15\n",
            "173/174 [============================>.] - ETA: 0s - loss: 0.6957 - acc: 0.7719Epoch 1/15\n",
            "174/174 [==============================] - 127s 732ms/step - loss: 0.6943 - acc: 0.7726 - val_loss: 0.5811 - val_acc: 0.8305\n",
            "Epoch 3/15\n",
            "173/174 [============================>.] - ETA: 0s - loss: 0.5465 - acc: 0.8170Epoch 1/15\n",
            "174/174 [==============================] - 129s 739ms/step - loss: 0.5456 - acc: 0.8172 - val_loss: 0.3599 - val_acc: 0.8771\n",
            "Epoch 4/15\n",
            "173/174 [============================>.] - ETA: 0s - loss: 0.4800 - acc: 0.8417Epoch 1/15\n",
            "174/174 [==============================] - 128s 736ms/step - loss: 0.4806 - acc: 0.8416 - val_loss: 0.4186 - val_acc: 0.8729\n",
            "Epoch 5/15\n",
            "173/174 [============================>.] - ETA: 0s - loss: 0.4526 - acc: 0.8456Epoch 1/15\n",
            "174/174 [==============================] - 127s 729ms/step - loss: 0.4518 - acc: 0.8458 - val_loss: 0.3963 - val_acc: 0.8771\n",
            "Epoch 6/15\n",
            "173/174 [============================>.] - ETA: 0s - loss: 0.4260 - acc: 0.8567Epoch 1/15\n",
            "174/174 [==============================] - 126s 727ms/step - loss: 0.4262 - acc: 0.8566 - val_loss: 0.3099 - val_acc: 0.8941\n",
            "Epoch 7/15\n",
            "173/174 [============================>.] - ETA: 0s - loss: 0.3974 - acc: 0.8711Epoch 1/15\n",
            "174/174 [==============================] - 127s 728ms/step - loss: 0.3969 - acc: 0.8714 - val_loss: 0.3755 - val_acc: 0.8644\n",
            "Epoch 8/15\n",
            "173/174 [============================>.] - ETA: 0s - loss: 0.3524 - acc: 0.8852Epoch 1/15\n",
            "174/174 [==============================] - 127s 729ms/step - loss: 0.3516 - acc: 0.8853 - val_loss: 0.4726 - val_acc: 0.8771\n",
            "Epoch 9/15\n",
            "173/174 [============================>.] - ETA: 0s - loss: 0.3532 - acc: 0.8848Epoch 1/15\n",
            "174/174 [==============================] - 127s 728ms/step - loss: 0.3537 - acc: 0.8843 - val_loss: 0.4594 - val_acc: 0.8856\n",
            "Epoch 10/15\n",
            "173/174 [============================>.] - ETA: 0s - loss: 0.3499 - acc: 0.8889Epoch 1/15\n",
            "174/174 [==============================] - 127s 730ms/step - loss: 0.3502 - acc: 0.8889 - val_loss: 0.2956 - val_acc: 0.9110\n",
            "Epoch 11/15\n",
            "173/174 [============================>.] - ETA: 0s - loss: 0.2946 - acc: 0.9000Epoch 1/15\n",
            "174/174 [==============================] - 127s 727ms/step - loss: 0.2938 - acc: 0.9003 - val_loss: 0.3776 - val_acc: 0.8983\n",
            "Epoch 12/15\n",
            "173/174 [============================>.] - ETA: 0s - loss: 0.2973 - acc: 0.8991Epoch 1/15\n",
            "174/174 [==============================] - 126s 726ms/step - loss: 0.2971 - acc: 0.8991 - val_loss: 0.2657 - val_acc: 0.9153\n",
            "Epoch 13/15\n",
            "173/174 [============================>.] - ETA: 0s - loss: 0.2707 - acc: 0.9099Epoch 1/15\n",
            "174/174 [==============================] - 127s 727ms/step - loss: 0.2702 - acc: 0.9101 - val_loss: 0.1694 - val_acc: 0.9576\n",
            "Epoch 14/15\n",
            "173/174 [============================>.] - ETA: 0s - loss: 0.2741 - acc: 0.9102Epoch 1/15\n",
            "174/174 [==============================] - 127s 728ms/step - loss: 0.2737 - acc: 0.9101 - val_loss: 0.3495 - val_acc: 0.8898\n",
            "Epoch 15/15\n",
            "173/174 [============================>.] - ETA: 0s - loss: 0.2594 - acc: 0.9117Epoch 1/15\n",
            "174/174 [==============================] - 126s 727ms/step - loss: 0.2596 - acc: 0.9119 - val_loss: 0.1855 - val_acc: 0.9407\n"
          ],
          "name": "stdout"
        }
      ]
    },
    {
      "cell_type": "code",
      "metadata": {
        "id": "o0eVjREBZe5q",
        "colab_type": "code",
        "outputId": "67483fd6-d3b3-41c2-e4b0-6bc1fc4f56b3",
        "colab": {
          "base_uri": "https://localhost:8080/",
          "height": 439
        }
      },
      "source": [
        "model.summary()"
      ],
      "execution_count": 0,
      "outputs": [
        {
          "output_type": "stream",
          "text": [
            "Model: \"sequential\"\n",
            "_________________________________________________________________\n",
            "Layer (type)                 Output Shape              Param #   \n",
            "=================================================================\n",
            "conv2d (Conv2D)              (None, 198, 198, 32)      896       \n",
            "_________________________________________________________________\n",
            "conv2d_1 (Conv2D)            (None, 196, 196, 64)      18496     \n",
            "_________________________________________________________________\n",
            "max_pooling2d (MaxPooling2D) (None, 98, 98, 64)        0         \n",
            "_________________________________________________________________\n",
            "dropout (Dropout)            (None, 98, 98, 64)        0         \n",
            "_________________________________________________________________\n",
            "flatten (Flatten)            (None, 614656)            0         \n",
            "_________________________________________________________________\n",
            "dense (Dense)                (None, 128)               78676096  \n",
            "_________________________________________________________________\n",
            "dropout_1 (Dropout)          (None, 128)               0         \n",
            "_________________________________________________________________\n",
            "dense_1 (Dense)              (None, 13)                1677      \n",
            "=================================================================\n",
            "Total params: 78,697,165\n",
            "Trainable params: 78,697,165\n",
            "Non-trainable params: 0\n",
            "_________________________________________________________________\n"
          ],
          "name": "stdout"
        }
      ]
    },
    {
      "cell_type": "code",
      "metadata": {
        "id": "7Da-5m_apXNE",
        "colab_type": "code",
        "colab": {}
      },
      "source": [
        "model.save('/content/drive/My Drive/appmodel.h5')"
      ],
      "execution_count": 0,
      "outputs": []
    },
    {
      "cell_type": "code",
      "metadata": {
        "id": "PwTC5VlmCpqC",
        "colab_type": "code",
        "colab": {}
      },
      "source": [
        "datadir_test1='/content/drive/My Drive/Project (1)/dataset (1)/test'"
      ],
      "execution_count": 0,
      "outputs": []
    },
    {
      "cell_type": "code",
      "metadata": {
        "id": "vFT3303gU1Uc",
        "colab_type": "code",
        "colab": {}
      },
      "source": [
        "test_datagen1 = tf.keras.preprocessing.image.ImageDataGenerator(rescale=1./255)"
      ],
      "execution_count": 0,
      "outputs": []
    },
    {
      "cell_type": "code",
      "metadata": {
        "id": "qVGifc9SVDNl",
        "colab_type": "code",
        "outputId": "4bb65445-67d6-4573-82c4-205beb32311d",
        "colab": {
          "base_uri": "https://localhost:8080/",
          "height": 34
        }
      },
      "source": [
        "test_generator1 = test_datagen1.flow_from_directory(\n",
        "    datadir_test1, \n",
        "    shuffle=True, \n",
        "    seed=42,\n",
        "    color_mode=\"rgb\", \n",
        "    class_mode=\"categorical\",\n",
        "    target_size=IMAGE_SIZE,\n",
        "    batch_size=BATCH_SIZE)\n"
      ],
      "execution_count": 0,
      "outputs": [
        {
          "output_type": "stream",
          "text": [
            "Found 2854 images belonging to 13 classes.\n"
          ],
          "name": "stdout"
        }
      ]
    },
    {
      "cell_type": "code",
      "metadata": {
        "id": "ZuHMfGMoVVx3",
        "colab_type": "code",
        "outputId": "dad1abec-d56b-4fe5-f256-ca2c05b49d9a",
        "colab": {
          "base_uri": "https://localhost:8080/",
          "height": 34
        }
      },
      "source": [
        "test_generator1.image_shape"
      ],
      "execution_count": 0,
      "outputs": [
        {
          "output_type": "execute_result",
          "data": {
            "text/plain": [
              "(200, 200, 3)"
            ]
          },
          "metadata": {
            "tags": []
          },
          "execution_count": 44
        }
      ]
    },
    {
      "cell_type": "code",
      "metadata": {
        "id": "Z4Gu6SR1DtO6",
        "colab_type": "code",
        "outputId": "e1e541d9-d3a3-4626-e871-fae4c009f5fc",
        "colab": {
          "base_uri": "https://localhost:8080/",
          "height": 52
        }
      },
      "source": [
        "loss, acc = model.evaluate(test_generator1)\n",
        "print(\"Restored model, accuracy: {:5.2f}%\".format(100*acc))"
      ],
      "execution_count": 0,
      "outputs": [
        {
          "output_type": "stream",
          "text": [
            "45/45 [==============================] - 771s 17s/step - loss: 0.3027 - acc: 0.9100\n",
            "Restored model, accuracy: 91.00%\n"
          ],
          "name": "stdout"
        }
      ]
    },
    {
      "cell_type": "code",
      "metadata": {
        "id": "PMa7xhthpsHg",
        "colab_type": "code",
        "colab": {}
      },
      "source": [
        "new_model=tf.keras.models.load_model('/content/drive/My Drive/appmodel.h5')\n",
        "new_model.summary()"
      ],
      "execution_count": 0,
      "outputs": []
    },
    {
      "cell_type": "code",
      "metadata": {
        "id": "R10xsSAuPG50",
        "colab_type": "code",
        "colab": {}
      },
      "source": [
        ""
      ],
      "execution_count": 0,
      "outputs": []
    }
  ]
}